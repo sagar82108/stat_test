{
 "cells": [
  {
   "cell_type": "code",
   "execution_count": null,
   "id": "3859dcab-5e60-43cf-867d-c0d087643fe7",
   "metadata": {},
   "outputs": [],
   "source": [
    "Estimation statistics is a branch of statistics that deals with making educated guesses or\n",
    "predictions about population parameters based on sample data.\n",
    "\n",
    "Point Estimate:\n",
    "if you want to estimate the average income of people in a city, \n",
    "you might take a sample of individuals and calculate the sample mean \n",
    "income as your point estimate for the population mean income.\n",
    "\n",
    "Interval Estimate:\n",
    "you might calculate a 95% confidence interval for the average height of a population as follows:\n",
    "\"We are 95% confident that the true population average height falls between 165 cm and 175 cm.\""
   ]
  },
  {
   "cell_type": "code",
   "execution_count": null,
   "id": "96a6cb39-0b51-4fb7-90eb-5bdb4cb43f7a",
   "metadata": {},
   "outputs": [],
   "source": [
    "def estimate_population_mean(sample_mean, sample_std_dev):\n",
    "    \"\"\"\n",
    "    Estimate the population mean from a sample mean and standard deviation.\n",
    "    \n",
    "    Args:\n",
    "    sample_mean (float): The sample mean.\n",
    "    sample_std_dev (float): The sample standard deviation.\n",
    "    \n",
    "    Returns:\n",
    "    float: Estimated population mean.\n",
    "    \"\"\"\n",
    "    return sample_mean\n",
    "\n",
    "# Example usage:\n",
    "sample_mean = 50.0  # Replace with your sample mean\n",
    "sample_std_dev = 10.0  # Replace with your sample standard deviation\n",
    "\n",
    "estimated_population_mean = estimate_population_mean(sample_mean, sample_std_dev)\n",
    "print(\"Estimated Population Mean:\", estimated_population_mean)\n"
   ]
  },
  {
   "cell_type": "code",
   "execution_count": null,
   "id": "b8823ae6-badf-4d61-8105-d245372f5ea2",
   "metadata": {},
   "outputs": [],
   "source": [
    "Hypothesis testing is a fundamental concept in statistics and research methodology. \n",
    "It is a systematic way of making decisions or drawing conclusions about a population based on sample data. Hypothesis testing is used to assess whether a statement or hypothesis about a population parameter is supported by the evidence from the sample.\n",
    "It is a critical tool in scientific research, business analysis."
   ]
  },
  {
   "cell_type": "code",
   "execution_count": null,
   "id": "3bd2a42f-d457-4dc5-a128-200fcde6d9b9",
   "metadata": {},
   "outputs": [],
   "source": [
    "Null Hypothesis (H0): The average weight of male college students is equal to or \n",
    "                      less than the average weight of female college students.\n",
    "\n",
    "Alternative Hypothesis (H1 or Ha): The average weight of male college students is greater\n",
    "than the average weight of female college students."
   ]
  },
  {
   "cell_type": "code",
   "execution_count": 1,
   "id": "46706917-9131-4ab3-b8fa-952ac69895c7",
   "metadata": {},
   "outputs": [
    {
     "name": "stdout",
     "output_type": "stream",
     "text": [
      "Reject the null hypothesis\n",
      "There is enough evidence to suggest a significant difference between the two populations.\n",
      "t-statistic: 5.263360008576436\n",
      "p-value: 5.269088568603888e-05\n"
     ]
    }
   ],
   "source": [
    "import numpy as np\n",
    "from scipy import stats\n",
    "\n",
    "# Sample data from Population 1 (e.g., male college students' weights)\n",
    "sample1 = np.array([70, 72, 68, 74, 75, 71, 73, 69, 70, 72])\n",
    "\n",
    "# Sample data from Population 2 (e.g., female college students' weights)\n",
    "sample2 = np.array([65, 67, 64, 68, 70, 66, 68, 63, 65, 67])\n",
    "\n",
    "# Set the significance level (alpha)\n",
    "alpha = 0.05\n",
    "\n",
    "# Perform a two-sample t-test\n",
    "t_statistic, p_value = stats.ttest_ind(sample1, sample2)\n",
    "\n",
    "# Compare p-value to alpha to make a decision\n",
    "if p_value < alpha:\n",
    "    print(\"Reject the null hypothesis\")\n",
    "    print(\"There is enough evidence to suggest a significant difference between the two populations.\")\n",
    "else:\n",
    "    print(\"Fail to reject the null hypothesis\")\n",
    "    print(\"There is not enough evidence to suggest a significant difference between the two populations.\")\n",
    "\n",
    "# Print t-statistic and p-value\n",
    "print(\"t-statistic:\", t_statistic)\n",
    "print(\"p-value:\", p_value)\n"
   ]
  },
  {
   "cell_type": "code",
   "execution_count": null,
   "id": "708a419a-0a05-4b1e-a84e-07138a5e9376",
   "metadata": {},
   "outputs": [],
   "source": [
    "In statistics, the null hypothesis (often denoted as \"H0\") and the alternative hypothesis \n",
    "(often denoted as \"Ha\" or \"H1\") are fundamental concepts used to formulate and test hypotheses \n",
    "about a population or a statistical relationship. These hypotheses are essential in hypothesis testing, which is a\n",
    "process used to make inferences about a population based on sample data.\n",
    "\n",
    "\n",
    "Alternative Hypothesis (Ha or H1):\n",
    "\n",
    "The alternative hypothesis is a statement that contradicts the null hypothesis.\n",
    "It represents the researcher's claim or the effect they are trying to demonstrate.\n"
   ]
  },
  {
   "cell_type": "code",
   "execution_count": null,
   "id": "da036d2e-3018-484f-b1e7-f0ce0c05d451",
   "metadata": {},
   "outputs": [],
   "source": [
    "Here are the steps involved in hypothesis testing in a more concise format:\n",
    "\n",
    "1. **Formulate Hypotheses:** Create a null hypothesis (H0) and an alternative hypothesis (Ha) based on your research question.\n",
    "\n",
    "2. **Select Significance Level (α):** Choose a significance level (e.g., 0.05) to determine the threshold for statistical significance.\n",
    "\n",
    "3. **Collect and Analyze Data:** Gather relevant data and perform statistical analysis.\n",
    "\n",
    "4. **Calculate Test Statistic:** Compute a test statistic based on your data and the chosen statistical test.\n",
    "\n",
    "5. **Determine Critical Region:** Establish a region in the probability distribution for the test statistic that represents rejection of the null hypothesis.\n",
    "\n",
    "6. **Compare Test Statistic:** Compare your test statistic to the critical value or calculate a p-value.\n",
    "\n",
    "7. **Draw Conclusion:** Based on the comparison, either reject or fail to reject the null hypothesis.\n",
    "\n",
    "8. **Interpret Results:** Explain the implications of your decision in the context of your research question.\n",
    "\n",
    "9. **Make Inferences:** Use the results to make broader conclusions or decisions.\n",
    "\n",
    "10. **Report Findings:** Communicate the results, including the decision, test statistic, and significance level, in a clear manner."
   ]
  },
  {
   "cell_type": "code",
   "execution_count": null,
   "id": "6c7e5c5d-1df0-439b-bff7-d4122567d3bf",
   "metadata": {},
   "outputs": [],
   "source": [
    "Definition of p-value: The p-value, short for \"probability value,\" is a statistical measure that quantifies the strength of evidence against the null hypothesis (H0) in hypothesis testing. \n",
    "It represents the probability of observing a test statistic as extreme as, or more extreme than, the one calculated from the sample data, assuming that the null hypothesis is true. \n",
    "In other words, the p-value tells you how likely it is to obtain the observed results if there is no real effect or difference (as stated in the null hypothesis).\n",
    "\n",
    "A small p-value (≤ α) suggests strong evidence to reject the null hypothesis,\n",
    "while a larger p-value (> α) implies insufficient evidence to reject it. \n",
    "The significance level α sets the threshold for significance."
   ]
  },
  {
   "cell_type": "code",
   "execution_count": 1,
   "id": "6e04150b-2f7e-4dc1-90af-79a9f3e8610b",
   "metadata": {},
   "outputs": [
    {
     "data": {
      "image/png": "[encoded data removed]",
      "text/plain": [
       "<Figure size 640x480 with 1 Axes>"
      ]
     },
     "metadata": {},
     "output_type": "display_data"
    }
   ],
   "source": [
    "import numpy as np\n",
    "import matplotlib.pyplot as plt\n",
    "from scipy.stats import t\n",
    "\n",
    "# Set the degrees of freedom\n",
    "df = 10\n",
    "\n",
    "# Generate a range of x values\n",
    "x = np.linspace(-4, 4, 1000)\n",
    "\n",
    "# Calculate the probability density function (PDF) for the t-distribution\n",
    "pdf = t.pdf(x, df)\n",
    "\n",
    "# Create the plot\n",
    "plt.plot(x, pdf, label=f't-distribution (df={df})', color='blue')\n",
    "\n",
    "# Add labels and a legend\n",
    "plt.xlabel('X-axis')\n",
    "plt.ylabel('Probability Density')\n",
    "plt.title(f'Student\\'s t-Distribution (df={df})')\n",
    "plt.legend()\n",
    "\n",
    "# Show the plot\n",
    "plt.grid()\n",
    "plt.show()\n"
   ]
  },
  {
   "cell_type": "code",
   "execution_count": 2,
   "id": "c3647af7-f292-43a7-ae66-fda647cfb83a",
   "metadata": {},
   "outputs": [
    {
     "name": "stdout",
     "output_type": "stream",
     "text": [
      "Fail to reject the null hypothesis: There is no significant difference between the population means.\n",
      "t-statistic: 0.6650854688519563\n",
      "p-value: 0.508631924299884\n"
     ]
    }
   ],
   "source": [
    "import numpy as np\n",
    "from scipy import stats\n",
    "\n",
    "# Generate two random samples with equal size\n",
    "sample1 = np.random.normal(loc=5, scale=2, size=30)  # Change loc, scale, and size as needed\n",
    "sample2 = np.random.normal(loc=5, scale=2, size=30)  # Change loc, scale, and size as needed\n",
    "\n",
    "# Calculate the t-statistic and p-value for the two-sample t-test\n",
    "t_statistic, p_value = stats.ttest_ind(sample1, sample2)\n",
    "\n",
    "# Set the significance level (alpha)\n",
    "alpha = 0.05\n",
    "\n",
    "# Compare the p-value to the significance level to make a decision\n",
    "if p_value < alpha:\n",
    "    print(\"Reject the null hypothesis: There is a significant difference between the population means.\")\n",
    "else:\n",
    "    print(\"Fail to reject the null hypothesis: There is no significant difference between the population means.\")\n",
    "\n",
    "# Print the t-statistic and p-value\n",
    "print(\"t-statistic:\", t_statistic)\n",
    "print(\"p-value:\", p_value)\n"
   ]
  },
  {
   "cell_type": "code",
   "execution_count": null,
   "id": "33b4e9ff-1034-4d27-93cd-a8a20720d175",
   "metadata": {},
   "outputs": [],
   "source": [
    "student's t-distribution, often simply called the t-distribution, is a probability distribution that plays a fundamental role in statistics,\n",
    "particularly in hypothesis testing and confidence interval estimation. It is similar in shape to the normal (Gaussian) distribution but has heavier tails.\n",
    "The t-distribution is characterized by its degrees of freedom, which determine its shape.\n",
    "\n",
    "Small Sample Sizes: The t-distribution is particularly useful when dealing with small sample sizes (typically less than 30 observations). In such cases, the normal distribution is not a good approximation of the sampling distribution of the sample mean. The t-distribution accounts for the increased variability associated with small samples.\n",
    "\n",
    "Unknown Population Variance: When the population standard deviation (σ) is unknown and is estimated from the sample, the t-distribution is used to account for the additional uncertainty in the estimate.\n",
    "\n",
    "Hypothesis Testing and Confidence Intervals: The t-distribution is commonly used in hypothesis testing and constructing confidence intervals for population parameters (e.g., population mean) when dealing with small samples. It is used in situations where you are comparing sample statistics, like means, and making inferences about population parameters."
   ]
  },
  {
   "cell_type": "code",
   "execution_count": 3,
   "id": "b4757b13-877e-42e5-a951-a91f7b00f1a2",
   "metadata": {},
   "outputs": [
    {
     "name": "stdout",
     "output_type": "stream",
     "text": [
      "95% Confidence Interval: ($486.14, $513.86)\n"
     ]
    }
   ],
   "source": [
    "import scipy.stats as stats\n",
    "import math\n",
    "\n",
    "# Sample statistics\n",
    "sample_mean = 500  # Sample mean revenue\n",
    "sample_std_dev = 50  # Sample standard deviation\n",
    "sample_size = 50  # Sample size\n",
    "\n",
    "# Confidence level\n",
    "confidence_level = 0.95\n",
    "\n",
    "# Calculate the critical value (Z) for the given confidence level\n",
    "alpha = 1 - confidence_level\n",
    "critical_value = stats.norm.ppf(1 - alpha / 2)\n",
    "\n",
    "# Calculate the standard error\n",
    "standard_error = sample_std_dev / math.sqrt(sample_size)\n",
    "\n",
    "# Calculate the margin of error\n",
    "margin_of_error = critical_value * standard_error\n",
    "\n",
    "# Calculate the confidence interval\n",
    "lower_limit = sample_mean - margin_of_error\n",
    "upper_limit = sample_mean + margin_of_error\n",
    "\n",
    "print(f\"95% Confidence Interval: (${lower_limit:.2f}, ${upper_limit:.2f})\")\n"
   ]
  },
  {
   "cell_type": "code",
   "execution_count": 1,
   "id": "68ad2f81-e2a1-400b-8655-341278a70969",
   "metadata": {},
   "outputs": [
    {
     "name": "stdout",
     "output_type": "stream",
     "text": [
      "Reject the null hypothesis. p-value = 0.0000\n"
     ]
    }
   ],
   "source": [
    "import scipy.stats as stats\n",
    "\n",
    "# Sample data\n",
    "sample_mean = 8\n",
    "sample_stddev = 3\n",
    "sample_size = 100\n",
    "\n",
    "# Hypothesized population mean under the null hypothesis\n",
    "hypothesized_mean = 10\n",
    "\n",
    "# Significance level\n",
    "alpha = 0.05\n",
    "\n",
    "# Calculate the z-score\n",
    "z = (sample_mean - hypothesized_mean) / (sample_stddev / (sample_size ** 0.5))\n",
    "\n",
    "# Calculate the p-value\n",
    "p_value = stats.norm.cdf(z)\n",
    "\n",
    "# Compare the p-value to the significance level\n",
    "if p_value < alpha:\n",
    "    print(f\"Reject the null hypothesis. p-value = {p_value:.4f}\")\n",
    "else:\n",
    "    print(f\"Fail to reject the null hypothesis. p-value = {p_value:.4f}\")\n"
   ]
  },
  {
   "cell_type": "code",
   "execution_count": 2,
   "id": "085321c2-bd4a-4fcc-ade4-7eb42335ceca",
   "metadata": {},
   "outputs": [
    {
     "name": "stdout",
     "output_type": "stream",
     "text": [
      "Fail to reject the null hypothesis. p-value = 0.0285\n"
     ]
    }
   ],
   "source": [
    "import scipy.stats as stats\n",
    "\n",
    "# Population parameters\n",
    "population_mean = 5\n",
    "population_stddev = 0.5\n",
    "\n",
    "# Sample data\n",
    "sample_mean = 4.8\n",
    "sample_size = 25\n",
    "\n",
    "# Significance level\n",
    "alpha = 0.01\n",
    "\n",
    "# Calculate the standard error of the sample mean\n",
    "standard_error = population_stddev / (sample_size ** 0.5)\n",
    "\n",
    "# Calculate the t-statistic\n",
    "t = (sample_mean - population_mean) / standard_error\n",
    "\n",
    "# Degrees of freedom\n",
    "degrees_of_freedom = sample_size - 1\n",
    "\n",
    "# Calculate the p-value for a one-tailed test (left-tailed since we're testing less than)\n",
    "p_value = stats.t.cdf(t, df=degrees_of_freedom)\n",
    "\n",
    "# Compare the p-value to the significance level\n",
    "if p_value < alpha:\n",
    "    print(f\"Reject the null hypothesis. p-value = {p_value:.4f}\")\n",
    "else:\n",
    "    print(f\"Fail to reject the null hypothesis. p-value = {p_value:.4f}\")\n"
   ]
  },
  {
   "cell_type": "code",
   "execution_count": 3,
   "id": "40b6f48e-2dec-45e7-be3f-76e7aff29895",
   "metadata": {},
   "outputs": [
    {
     "name": "stdout",
     "output_type": "stream",
     "text": [
      "Reject the null hypothesis. p-value = 0.0000\n"
     ]
    }
   ],
   "source": [
    "import scipy.stats as stats\n",
    "\n",
    "# Sample 1 data\n",
    "n1 = 30\n",
    "mean1 = 80\n",
    "stddev1 = 10\n",
    "\n",
    "# Sample 2 data\n",
    "n2 = 40\n",
    "mean2 = 75\n",
    "stddev2 = 8\n",
    "\n",
    "# Significance level\n",
    "alpha = 0.01\n",
    "\n",
    "# Calculate the standard error for each group\n",
    "se1 = stddev1 / (n1 ** 0.5)\n",
    "se2 = stddev2 / (n2 ** 0.5)\n",
    "\n",
    "# Calculate the t-statistic for the two-sample t-test\n",
    "t_statistic = (mean1 - mean2) / ((se1**2/n1) + (se2**2/n2))**0.5\n",
    "\n",
    "# Calculate degrees of freedom\n",
    "degrees_of_freedom = n1 + n2 - 2\n",
    "\n",
    "# Calculate the p-value for a two-tailed test\n",
    "p_value = 2 * (1 - stats.t.cdf(abs(t_statistic), df=degrees_of_freedom))\n",
    "\n",
    "# Compare the p-value to the significance level\n",
    "if p_value < alpha:\n",
    "    print(f\"Reject the null hypothesis. p-value = {p_value:.4f}\")\n",
    "else:\n",
    "    print(f\"Fail to reject the null hypothesis. p-value = {p_value:.4f}\")\n"
   ]
  },
  {
   "cell_type": "code",
   "execution_count": 4,
   "id": "2a3a9ab3-e714-4368-9281-f8eda5dc7007",
   "metadata": {},
   "outputs": [
    {
     "name": "stdout",
     "output_type": "stream",
     "text": [
      "99% Confidence Interval: (3.45, 4.55)\n"
     ]
    }
   ],
   "source": [
    "import scipy.stats as stats\n",
    "\n",
    "# Sample data\n",
    "sample_mean = 4\n",
    "population_stddev = 1.5\n",
    "sample_size = 50\n",
    "\n",
    "# Confidence level\n",
    "confidence_level = 0.99\n",
    "\n",
    "# Calculate the critical value for a two-tailed test\n",
    "critical_value = stats.norm.ppf((1 + confidence_level) / 2)\n",
    "\n",
    "# Calculate the margin of error\n",
    "margin_of_error = critical_value * (population_stddev / (sample_size ** 0.5))\n",
    "\n",
    "# Calculate the confidence interval\n",
    "confidence_interval_lower = sample_mean - margin_of_error\n",
    "confidence_interval_upper = sample_mean + margin_of_error\n",
    "\n",
    "print(f\"99% Confidence Interval: ({confidence_interval_lower:.2f}, {confidence_interval_upper:.2f})\")\n"
   ]
  },
  {
   "cell_type": "code",
   "execution_count": null,
   "id": "77994cfa-aa40-45a9-be91-3da7d2a8ffd7",
   "metadata": {},
   "outputs": [],
   "source": []
  }
 ],
 "metadata": {
  "kernelspec": {
   "display_name": "Python 3 (ipykernel)",
   "language": "python",
   "name": "python3"
  },
  "language_info": {
   "codemirror_mode": {
    "name": "ipython",
    "version": 3
   },
   "file_extension": ".py",
   "mimetype": "text/x-python",
   "name": "python",
   "nbconvert_exporter": "python",
   "pygments_lexer": "ipython3",
   "version": "3.10.8"
  }
 },
 "nbformat": 4,
 "nbformat_minor": 5
}
